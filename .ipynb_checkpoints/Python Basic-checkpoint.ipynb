{
 "cells": [
  {
   "cell_type": "code",
   "execution_count": 3,
   "id": "ece786a1",
   "metadata": {},
   "outputs": [],
   "source": [
    "name = 'Jeevan'\n",
    "address = 'Nepal'"
   ]
  },
  {
   "cell_type": "code",
   "execution_count": 5,
   "id": "9adb9a38",
   "metadata": {},
   "outputs": [
    {
     "name": "stdout",
     "output_type": "stream",
     "text": [
      "My name is Jeevan and I am from Nepal.\n"
     ]
    }
   ],
   "source": [
    "print('My name is {} and I am from {}.'.format(name, address))"
   ]
  },
  {
   "cell_type": "code",
   "execution_count": 7,
   "id": "31b2962f",
   "metadata": {},
   "outputs": [
    {
     "name": "stdout",
     "output_type": "stream",
     "text": [
      "My name is Jeevan and I am from Nepal.\n"
     ]
    }
   ],
   "source": [
    "print('My name is {one} and I am from {two}.'.format(one = name, two = address)) # for this no need to worry about formating"
   ]
  },
  {
   "cell_type": "code",
   "execution_count": 8,
   "id": "1108ac4e",
   "metadata": {},
   "outputs": [],
   "source": [
    "name1 = 'hello'"
   ]
  },
  {
   "cell_type": "code",
   "execution_count": 31,
   "id": "dcd09fd3",
   "metadata": {},
   "outputs": [
    {
     "name": "stdout",
     "output_type": "stream",
     "text": [
      "h\n"
     ]
    }
   ],
   "source": [
    "print(name1[0])"
   ]
  },
  {
   "cell_type": "code",
   "execution_count": 32,
   "id": "c60336f6",
   "metadata": {},
   "outputs": [
    {
     "name": "stdout",
     "output_type": "stream",
     "text": [
      "o\n"
     ]
    }
   ],
   "source": [
    "print(name1[-1])"
   ]
  },
  {
   "cell_type": "markdown",
   "id": "2bd94163",
   "metadata": {},
   "source": [
    "# slice notation"
   ]
  },
  {
   "cell_type": "code",
   "execution_count": 33,
   "id": "f82dc269",
   "metadata": {},
   "outputs": [
    {
     "name": "stdout",
     "output_type": "stream",
     "text": [
      "hel\n"
     ]
    }
   ],
   "source": [
    "print(name1[:3]) # upto index 2"
   ]
  },
  {
   "cell_type": "code",
   "execution_count": 34,
   "id": "495cab9e",
   "metadata": {},
   "outputs": [
    {
     "name": "stdout",
     "output_type": "stream",
     "text": [
      "ello\n"
     ]
    }
   ],
   "source": [
    "print(name1[1:])"
   ]
  },
  {
   "cell_type": "markdown",
   "id": "e2d7e016",
   "metadata": {},
   "source": [
    "# LIST --> mutable"
   ]
  },
  {
   "cell_type": "code",
   "execution_count": 13,
   "id": "2dc7a69a",
   "metadata": {},
   "outputs": [],
   "source": [
    "my_list = ['a', 'b', 'c', 'd', 'e']"
   ]
  },
  {
   "cell_type": "code",
   "execution_count": 14,
   "id": "5842fe27",
   "metadata": {},
   "outputs": [],
   "source": [
    "my_list.append('f')"
   ]
  },
  {
   "cell_type": "code",
   "execution_count": 15,
   "id": "54fbe764",
   "metadata": {},
   "outputs": [
    {
     "name": "stdout",
     "output_type": "stream",
     "text": [
      "['a', 'b', 'c', 'd', 'e', 'f']\n"
     ]
    }
   ],
   "source": [
    "print(my_list)"
   ]
  },
  {
   "cell_type": "code",
   "execution_count": 35,
   "id": "24722337",
   "metadata": {},
   "outputs": [
    {
     "name": "stdout",
     "output_type": "stream",
     "text": [
      "a\n"
     ]
    }
   ],
   "source": [
    "print(my_list[0])"
   ]
  },
  {
   "cell_type": "code",
   "execution_count": 36,
   "id": "94f5152c",
   "metadata": {},
   "outputs": [
    {
     "name": "stdout",
     "output_type": "stream",
     "text": [
      "['a', 'later append', 'c', 'd', 'e']\n"
     ]
    }
   ],
   "source": [
    "print(my_list[:5])"
   ]
  },
  {
   "cell_type": "code",
   "execution_count": 37,
   "id": "91c7d8cf",
   "metadata": {},
   "outputs": [
    {
     "name": "stdout",
     "output_type": "stream",
     "text": [
      "['c', 'd', 'e', 'f']\n"
     ]
    }
   ],
   "source": [
    "print(my_list[2:6])"
   ]
  },
  {
   "cell_type": "code",
   "execution_count": 39,
   "id": "6eef0c92",
   "metadata": {},
   "outputs": [],
   "source": [
    "my_list[1] = \"later append\""
   ]
  },
  {
   "cell_type": "code",
   "execution_count": 21,
   "id": "4b70a310",
   "metadata": {},
   "outputs": [
    {
     "name": "stdout",
     "output_type": "stream",
     "text": [
      "['a', 'later append', 'c', 'd', 'e', 'f']\n"
     ]
    }
   ],
   "source": [
    "print(my_list)"
   ]
  },
  {
   "cell_type": "code",
   "execution_count": 27,
   "id": "c6b8b3ee",
   "metadata": {},
   "outputs": [],
   "source": [
    "next_list = [1, 2, [3, 4]]   # nested list"
   ]
  },
  {
   "cell_type": "code",
   "execution_count": 40,
   "id": "1f812805",
   "metadata": {},
   "outputs": [
    {
     "name": "stdout",
     "output_type": "stream",
     "text": [
      "[3, 4]\n"
     ]
    }
   ],
   "source": [
    "print(next_list[2])"
   ]
  },
  {
   "cell_type": "code",
   "execution_count": 41,
   "id": "81e51d7a",
   "metadata": {},
   "outputs": [
    {
     "name": "stdout",
     "output_type": "stream",
     "text": [
      "4\n"
     ]
    }
   ],
   "source": [
    "print(next_list[2][1])"
   ]
  },
  {
   "cell_type": "markdown",
   "id": "652d6c79",
   "metadata": {},
   "source": [
    "# DICTIONARY"
   ]
  },
  {
   "cell_type": "code",
   "execution_count": 48,
   "id": "bcc79e5d",
   "metadata": {},
   "outputs": [],
   "source": [
    "D = {\n",
    "    'key1' : 'value',\n",
    "    'key2' : 123\n",
    "}"
   ]
  },
  {
   "cell_type": "code",
   "execution_count": 49,
   "id": "7dd350b8",
   "metadata": {},
   "outputs": [
    {
     "name": "stdout",
     "output_type": "stream",
     "text": [
      "value\n"
     ]
    }
   ],
   "source": [
    "print(D['key1'])"
   ]
  },
  {
   "cell_type": "code",
   "execution_count": 50,
   "id": "6abb0051",
   "metadata": {},
   "outputs": [],
   "source": [
    "d = {'k1' : [1, 2, 3]}\n"
   ]
  },
  {
   "cell_type": "code",
   "execution_count": 51,
   "id": "b2365716",
   "metadata": {},
   "outputs": [
    {
     "name": "stdout",
     "output_type": "stream",
     "text": [
      "2\n"
     ]
    }
   ],
   "source": [
    "print(d['k1'][1])"
   ]
  },
  {
   "cell_type": "markdown",
   "id": "9c6aa5ac",
   "metadata": {},
   "source": [
    "## nested dictionary"
   ]
  },
  {
   "cell_type": "code",
   "execution_count": 52,
   "id": "3ddc6c87",
   "metadata": {},
   "outputs": [],
   "source": [
    "d1 = {'k1' : {'innerkey' : [1, 2, 3]}}"
   ]
  },
  {
   "cell_type": "code",
   "execution_count": 53,
   "id": "194f535f",
   "metadata": {},
   "outputs": [
    {
     "name": "stdout",
     "output_type": "stream",
     "text": [
      "{'innerkey': [1, 2, 3]}\n"
     ]
    }
   ],
   "source": [
    "print(d1['k1'])"
   ]
  },
  {
   "cell_type": "code",
   "execution_count": 54,
   "id": "e78ad40a",
   "metadata": {},
   "outputs": [
    {
     "name": "stdout",
     "output_type": "stream",
     "text": [
      "[1, 2, 3]\n"
     ]
    }
   ],
   "source": [
    "print(d1['k1']['innerkey'])"
   ]
  },
  {
   "cell_type": "code",
   "execution_count": 55,
   "id": "bba3fb67",
   "metadata": {},
   "outputs": [
    {
     "name": "stdout",
     "output_type": "stream",
     "text": [
      "3\n"
     ]
    }
   ],
   "source": [
    "print(d1['k1']['innerkey'][2])"
   ]
  },
  {
   "cell_type": "markdown",
   "id": "b42ab8e2",
   "metadata": {},
   "source": [
    "# TUPLE --> immutable"
   ]
  },
  {
   "cell_type": "code",
   "execution_count": 56,
   "id": "5d64b333",
   "metadata": {},
   "outputs": [],
   "source": [
    "t = (1, 2, 3)"
   ]
  },
  {
   "cell_type": "code",
   "execution_count": 57,
   "id": "2c265341",
   "metadata": {},
   "outputs": [
    {
     "name": "stdout",
     "output_type": "stream",
     "text": [
      "1\n"
     ]
    }
   ],
   "source": [
    "print(t[0])"
   ]
  },
  {
   "cell_type": "markdown",
   "id": "081526ad",
   "metadata": {},
   "source": [
    "# SET --> collection of unique element"
   ]
  },
  {
   "cell_type": "code",
   "execution_count": 58,
   "id": "e4c187b8",
   "metadata": {},
   "outputs": [],
   "source": [
    "s = {1,2,3}"
   ]
  },
  {
   "cell_type": "code",
   "execution_count": 59,
   "id": "ae32c7e1",
   "metadata": {},
   "outputs": [],
   "source": [
    "s1 = {1, 2, 2, 3}"
   ]
  },
  {
   "cell_type": "code",
   "execution_count": 60,
   "id": "b4d34ee1",
   "metadata": {},
   "outputs": [
    {
     "name": "stdout",
     "output_type": "stream",
     "text": [
      "{1, 2, 3}\n"
     ]
    }
   ],
   "source": [
    "print(s)"
   ]
  },
  {
   "cell_type": "code",
   "execution_count": 61,
   "id": "b5bc5e53",
   "metadata": {},
   "outputs": [
    {
     "name": "stdout",
     "output_type": "stream",
     "text": [
      "{1, 2, 3}\n"
     ]
    }
   ],
   "source": [
    "print(s1)"
   ]
  },
  {
   "cell_type": "markdown",
   "id": "32624cd1",
   "metadata": {},
   "source": [
    "## set() function"
   ]
  },
  {
   "cell_type": "code",
   "execution_count": 63,
   "id": "bfd1e1f5",
   "metadata": {},
   "outputs": [
    {
     "name": "stdout",
     "output_type": "stream",
     "text": [
      "{1, 2, 3, 5, 6}\n"
     ]
    }
   ],
   "source": [
    "print(set([1,2,2,3,5,6,3,5,6]))"
   ]
  },
  {
   "cell_type": "code",
   "execution_count": 64,
   "id": "2bd1ba52",
   "metadata": {},
   "outputs": [],
   "source": [
    "s.add(5)"
   ]
  },
  {
   "cell_type": "code",
   "execution_count": 65,
   "id": "bbb990b0",
   "metadata": {},
   "outputs": [
    {
     "name": "stdout",
     "output_type": "stream",
     "text": [
      "{1, 2, 3, 5}\n"
     ]
    }
   ],
   "source": [
    "print(s)"
   ]
  },
  {
   "cell_type": "code",
   "execution_count": 66,
   "id": "cf8e1b79",
   "metadata": {},
   "outputs": [],
   "source": [
    "s.add(4)"
   ]
  },
  {
   "cell_type": "code",
   "execution_count": 67,
   "id": "6497044d",
   "metadata": {},
   "outputs": [
    {
     "name": "stdout",
     "output_type": "stream",
     "text": [
      "{1, 2, 3, 4, 5}\n"
     ]
    }
   ],
   "source": [
    "print(s)"
   ]
  },
  {
   "cell_type": "markdown",
   "id": "96859313",
   "metadata": {},
   "source": [
    "# CODE BLOCK"
   ]
  },
  {
   "cell_type": "code",
   "execution_count": 69,
   "id": "1cd09e84",
   "metadata": {},
   "outputs": [
    {
     "name": "stdout",
     "output_type": "stream",
     "text": [
      "yep!\n"
     ]
    }
   ],
   "source": [
    "if 1<2:\n",
    "    print('yep!')"
   ]
  },
  {
   "cell_type": "markdown",
   "id": "c5fc8d4d",
   "metadata": {},
   "source": [
    "# LOOPS"
   ]
  },
  {
   "cell_type": "code",
   "execution_count": 70,
   "id": "59f81102",
   "metadata": {},
   "outputs": [],
   "source": [
    "seq = [1, 2, 3, 4, 5]"
   ]
  },
  {
   "cell_type": "code",
   "execution_count": 71,
   "id": "5376c758",
   "metadata": {},
   "outputs": [
    {
     "name": "stdout",
     "output_type": "stream",
     "text": [
      "1\n",
      "2\n",
      "3\n",
      "4\n",
      "5\n"
     ]
    }
   ],
   "source": [
    "for item in seq:\n",
    "    print(item)"
   ]
  },
  {
   "cell_type": "code",
   "execution_count": 76,
   "id": "a62c1b01",
   "metadata": {},
   "outputs": [
    {
     "name": "stdout",
     "output_type": "stream",
     "text": [
      "i is: 1\n",
      "i is: 2\n",
      "i is: 3\n",
      "i is: 4\n"
     ]
    }
   ],
   "source": [
    "i = 1\n",
    "\n",
    "while i<5:\n",
    "    print('i is: {}'.format(i))\n",
    "    i = i + 1"
   ]
  },
  {
   "cell_type": "markdown",
   "id": "69205a2d",
   "metadata": {},
   "source": [
    "# range() function"
   ]
  },
  {
   "cell_type": "code",
   "execution_count": 78,
   "id": "3d8967f9",
   "metadata": {},
   "outputs": [
    {
     "name": "stdout",
     "output_type": "stream",
     "text": [
      "i is: 0\n",
      "i is: 1\n",
      "i is: 2\n",
      "i is: 3\n",
      "i is: 4\n"
     ]
    }
   ],
   "source": [
    "for i in range(0,5):\n",
    "    print('i is: {}'.format(i))"
   ]
  },
  {
   "cell_type": "code",
   "execution_count": 79,
   "id": "a7758922",
   "metadata": {},
   "outputs": [
    {
     "name": "stdout",
     "output_type": "stream",
     "text": [
      "[0, 1, 2, 3, 4]\n"
     ]
    }
   ],
   "source": [
    "print(list(range(0,5)))"
   ]
  },
  {
   "cell_type": "code",
   "execution_count": 80,
   "id": "71225026",
   "metadata": {},
   "outputs": [
    {
     "name": "stdout",
     "output_type": "stream",
     "text": [
      "[0, 1, 2, 3, 4, 5, 6, 7, 8, 9]\n"
     ]
    }
   ],
   "source": [
    "print(list(range(10)))"
   ]
  },
  {
   "cell_type": "markdown",
   "id": "75fbb425",
   "metadata": {},
   "source": [
    "# list comprehension"
   ]
  },
  {
   "cell_type": "code",
   "execution_count": 81,
   "id": "3d1dce73",
   "metadata": {},
   "outputs": [],
   "source": [
    "x = [1, 2, 3, 4, 5]"
   ]
  },
  {
   "cell_type": "code",
   "execution_count": 82,
   "id": "3964e65e",
   "metadata": {},
   "outputs": [],
   "source": [
    "out = []\n",
    "\n",
    "for num in x:\n",
    "    out.append(num**2)"
   ]
  },
  {
   "cell_type": "code",
   "execution_count": 83,
   "id": "148105f6",
   "metadata": {},
   "outputs": [
    {
     "name": "stdout",
     "output_type": "stream",
     "text": [
      "[1, 4, 9, 16, 25]\n"
     ]
    }
   ],
   "source": [
    "print(out)"
   ]
  },
  {
   "cell_type": "markdown",
   "id": "ad25f671",
   "metadata": {},
   "source": [
    "## list comprehension"
   ]
  },
  {
   "cell_type": "code",
   "execution_count": 84,
   "id": "27cae385",
   "metadata": {},
   "outputs": [
    {
     "name": "stdout",
     "output_type": "stream",
     "text": [
      "[1, 4, 9, 16, 25]\n"
     ]
    }
   ],
   "source": [
    "print([num**2 for num in x])"
   ]
  },
  {
   "cell_type": "code",
   "execution_count": 89,
   "id": "1e2d2900",
   "metadata": {},
   "outputs": [],
   "source": [
    "new = [num*3 for num in x]"
   ]
  },
  {
   "cell_type": "code",
   "execution_count": 90,
   "id": "437f98c9",
   "metadata": {},
   "outputs": [
    {
     "name": "stdout",
     "output_type": "stream",
     "text": [
      "[3, 6, 9, 12, 15]\n"
     ]
    }
   ],
   "source": [
    "print(new)"
   ]
  },
  {
   "cell_type": "markdown",
   "id": "cd4c09e9",
   "metadata": {},
   "source": [
    "# FUNCTION"
   ]
  },
  {
   "cell_type": "code",
   "execution_count": 1,
   "id": "c44a8dd7",
   "metadata": {},
   "outputs": [],
   "source": [
    "def my_func(param1):\n",
    "    print(param1)"
   ]
  },
  {
   "cell_type": "code",
   "execution_count": 2,
   "id": "bbd6c6da",
   "metadata": {},
   "outputs": [
    {
     "name": "stdout",
     "output_type": "stream",
     "text": [
      "hello\n"
     ]
    }
   ],
   "source": [
    "my_func('hello')"
   ]
  },
  {
   "cell_type": "code",
   "execution_count": 13,
   "id": "7c8f6b36",
   "metadata": {},
   "outputs": [],
   "source": [
    "def my_func(name='default name'):\n",
    "    print('Hello ' + name)"
   ]
  },
  {
   "cell_type": "code",
   "execution_count": 16,
   "id": "da721102",
   "metadata": {},
   "outputs": [
    {
     "name": "stdout",
     "output_type": "stream",
     "text": [
      "Hello Jeevan\n"
     ]
    }
   ],
   "source": [
    "my_func('Jeevan')"
   ]
  },
  {
   "cell_type": "code",
   "execution_count": 17,
   "id": "135a8ef3",
   "metadata": {},
   "outputs": [
    {
     "name": "stdout",
     "output_type": "stream",
     "text": [
      "Hello default name\n"
     ]
    }
   ],
   "source": [
    "my_func()"
   ]
  },
  {
   "cell_type": "code",
   "execution_count": 23,
   "id": "f91f372e",
   "metadata": {},
   "outputs": [],
   "source": [
    "def square(num):\n",
    "    '''\n",
    "    THIS IS MULTILINE COMMENT\n",
    "    '''\n",
    "    return num**2"
   ]
  },
  {
   "cell_type": "code",
   "execution_count": 24,
   "id": "d71a60c7",
   "metadata": {},
   "outputs": [],
   "source": [
    "output = square(2)"
   ]
  },
  {
   "cell_type": "code",
   "execution_count": 25,
   "id": "dc7e2146",
   "metadata": {},
   "outputs": [
    {
     "name": "stdout",
     "output_type": "stream",
     "text": [
      "4\n"
     ]
    }
   ],
   "source": [
    "print(output)"
   ]
  },
  {
   "cell_type": "markdown",
   "id": "8cc8ccfa",
   "metadata": {},
   "source": [
    "# map() function"
   ]
  },
  {
   "cell_type": "code",
   "execution_count": 29,
   "id": "573115b2",
   "metadata": {},
   "outputs": [],
   "source": [
    "def times(num):\n",
    "    '''\n",
    "    THIS IS MULTILINE COMMENT\n",
    "    '''\n",
    "    return num*2"
   ]
  },
  {
   "cell_type": "code",
   "execution_count": 30,
   "id": "92ca37f9",
   "metadata": {},
   "outputs": [],
   "source": [
    "seq = [1, 2, 3, 4, 5]"
   ]
  },
  {
   "cell_type": "code",
   "execution_count": 32,
   "id": "5a2c8ebb",
   "metadata": {},
   "outputs": [
    {
     "data": {
      "text/plain": [
       "[2, 4, 6, 8, 10]"
      ]
     },
     "execution_count": 32,
     "metadata": {},
     "output_type": "execute_result"
    }
   ],
   "source": [
    "list(map(times, seq))"
   ]
  },
  {
   "cell_type": "markdown",
   "id": "2f4142a4",
   "metadata": {},
   "source": [
    "# LAMDA EXPRESSION"
   ]
  },
  {
   "cell_type": "code",
   "execution_count": 34,
   "id": "30c515d4",
   "metadata": {},
   "outputs": [],
   "source": [
    "t = lambda var:var*2"
   ]
  },
  {
   "cell_type": "markdown",
   "id": "d4572a0e",
   "metadata": {},
   "source": [
    "print(t)"
   ]
  },
  {
   "cell_type": "code",
   "execution_count": 39,
   "id": "36b01a40",
   "metadata": {},
   "outputs": [
    {
     "data": {
      "text/plain": [
       "[2, 4, 6, 8, 10]"
      ]
     },
     "execution_count": 39,
     "metadata": {},
     "output_type": "execute_result"
    }
   ],
   "source": [
    "list(map(lambda num:num*2, seq))"
   ]
  },
  {
   "cell_type": "markdown",
   "id": "49d1583c",
   "metadata": {},
   "source": [
    "# filter() function"
   ]
  },
  {
   "cell_type": "code",
   "execution_count": 42,
   "id": "c44922e3",
   "metadata": {},
   "outputs": [
    {
     "data": {
      "text/plain": [
       "[2, 4]"
      ]
     },
     "execution_count": 42,
     "metadata": {},
     "output_type": "execute_result"
    }
   ],
   "source": [
    "list(filter(lambda num:num % 2 == 0, seq)) # use some sorts of function or lamda expression"
   ]
  },
  {
   "cell_type": "markdown",
   "id": "e67b655a",
   "metadata": {},
   "source": [
    "# METHODS"
   ]
  },
  {
   "cell_type": "code",
   "execution_count": 43,
   "id": "f46613c2",
   "metadata": {},
   "outputs": [],
   "source": [
    "s = 'hello my name is Jeevan Gaire'"
   ]
  },
  {
   "cell_type": "code",
   "execution_count": 45,
   "id": "8fb08b29",
   "metadata": {},
   "outputs": [
    {
     "data": {
      "text/plain": [
       "'hello my name is jeevan gaire'"
      ]
     },
     "execution_count": 45,
     "metadata": {},
     "output_type": "execute_result"
    }
   ],
   "source": [
    "s.lower()"
   ]
  },
  {
   "cell_type": "code",
   "execution_count": 46,
   "id": "50c566bd",
   "metadata": {},
   "outputs": [
    {
     "data": {
      "text/plain": [
       "'HELLO MY NAME IS JEEVAN GAIRE'"
      ]
     },
     "execution_count": 46,
     "metadata": {},
     "output_type": "execute_result"
    }
   ],
   "source": [
    "s.upper()"
   ]
  },
  {
   "cell_type": "code",
   "execution_count": 47,
   "id": "b8393415",
   "metadata": {},
   "outputs": [
    {
     "data": {
      "text/plain": [
       "['hello', 'my', 'name', 'is', 'Jeevan', 'Gaire']"
      ]
     },
     "execution_count": 47,
     "metadata": {},
     "output_type": "execute_result"
    }
   ],
   "source": [
    "s.split()"
   ]
  },
  {
   "cell_type": "code",
   "execution_count": 50,
   "id": "8dae8fbe",
   "metadata": {},
   "outputs": [
    {
     "data": {
      "text/plain": [
       "'aire'"
      ]
     },
     "execution_count": 50,
     "metadata": {},
     "output_type": "execute_result"
    }
   ],
   "source": [
    "s.split('G')[1]"
   ]
  },
  {
   "cell_type": "code",
   "execution_count": 51,
   "id": "1699782d",
   "metadata": {},
   "outputs": [],
   "source": [
    "d = {\n",
    "    'k1' : 1,\n",
    "    'k2' : 2\n",
    "}"
   ]
  },
  {
   "cell_type": "code",
   "execution_count": 52,
   "id": "3eb1d267",
   "metadata": {},
   "outputs": [
    {
     "data": {
      "text/plain": [
       "dict_keys(['k1', 'k2'])"
      ]
     },
     "execution_count": 52,
     "metadata": {},
     "output_type": "execute_result"
    }
   ],
   "source": [
    "d.keys()"
   ]
  },
  {
   "cell_type": "code",
   "execution_count": 53,
   "id": "d76f5b35",
   "metadata": {},
   "outputs": [
    {
     "data": {
      "text/plain": [
       "dict_items([('k1', 1), ('k2', 2)])"
      ]
     },
     "execution_count": 53,
     "metadata": {},
     "output_type": "execute_result"
    }
   ],
   "source": [
    "d.items()"
   ]
  },
  {
   "cell_type": "code",
   "execution_count": 54,
   "id": "9245ba91",
   "metadata": {},
   "outputs": [
    {
     "data": {
      "text/plain": [
       "dict_values([1, 2])"
      ]
     },
     "execution_count": 54,
     "metadata": {},
     "output_type": "execute_result"
    }
   ],
   "source": [
    "d.values()"
   ]
  },
  {
   "cell_type": "code",
   "execution_count": 55,
   "id": "4d8126ff",
   "metadata": {},
   "outputs": [],
   "source": [
    "lst = [1, 2, 3]"
   ]
  },
  {
   "cell_type": "code",
   "execution_count": 56,
   "id": "49031ae7",
   "metadata": {},
   "outputs": [
    {
     "data": {
      "text/plain": [
       "3"
      ]
     },
     "execution_count": 56,
     "metadata": {},
     "output_type": "execute_result"
    }
   ],
   "source": [
    "lst.pop()"
   ]
  },
  {
   "cell_type": "code",
   "execution_count": null,
   "id": "3a6eb38a",
   "metadata": {},
   "outputs": [],
   "source": []
  }
 ],
 "metadata": {
  "kernelspec": {
   "display_name": "Python 3 (ipykernel)",
   "language": "python",
   "name": "python3"
  },
  "language_info": {
   "codemirror_mode": {
    "name": "ipython",
    "version": 3
   },
   "file_extension": ".py",
   "mimetype": "text/x-python",
   "name": "python",
   "nbconvert_exporter": "python",
   "pygments_lexer": "ipython3",
   "version": "3.11.4"
  }
 },
 "nbformat": 4,
 "nbformat_minor": 5
}
